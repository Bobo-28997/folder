{
  "nbformat": 4,
  "nbformat_minor": 0,
  "metadata": {
    "colab": {
      "provenance": []
    },
    "kernelspec": {
      "name": "python3",
      "display_name": "Python 3"
    },
    "language_info": {
      "name": "python"
    }
  },
  "cells": [
    {
      "cell_type": "markdown",
      "source": [
        "**SQL Mock Exam Practice**"
      ],
      "metadata": {
        "id": "DX0_OC7UHQk4"
      }
    },
    {
      "cell_type": "markdown",
      "source": [
        "Your NAME Here:"
      ],
      "metadata": {
        "id": "mN9luFnrQOd9"
      }
    },
    {
      "cell_type": "markdown",
      "source": [
        "Here is some code to get us started.  Just run these first set of lines of code (4 short chunks)."
      ],
      "metadata": {
        "id": "7MbqhoCdQ7bP"
      }
    },
    {
      "cell_type": "code",
      "source": [
        "import pandas as pd\n",
        "url = 'https://www.qogdata.pol.gu.se/data/qog_bas_cs_jan24.xlsx'\n",
        "df = pd.read_excel(url)"
      ],
      "metadata": {
        "id": "JWevFMwo0SUl"
      },
      "execution_count": 38,
      "outputs": []
    },
    {
      "cell_type": "code",
      "source": [
        "!pip install pandasql\n",
        "import pandasql as psql\n",
        "from pandasql import sqldf"
      ],
      "metadata": {
        "colab": {
          "base_uri": "https://localhost:8080/"
        },
        "id": "WX3yB8Sg1yCd",
        "outputId": "225a010b-f5ae-4b06-8ebf-2567b7054945"
      },
      "execution_count": 39,
      "outputs": [
        {
          "output_type": "stream",
          "name": "stdout",
          "text": [
            "Requirement already satisfied: pandasql in /usr/local/lib/python3.11/dist-packages (0.7.3)\n",
            "Requirement already satisfied: numpy in /usr/local/lib/python3.11/dist-packages (from pandasql) (1.26.4)\n",
            "Requirement already satisfied: pandas in /usr/local/lib/python3.11/dist-packages (from pandasql) (2.2.2)\n",
            "Requirement already satisfied: sqlalchemy in /usr/local/lib/python3.11/dist-packages (from pandasql) (2.0.38)\n",
            "Requirement already satisfied: python-dateutil>=2.8.2 in /usr/local/lib/python3.11/dist-packages (from pandas->pandasql) (2.8.2)\n",
            "Requirement already satisfied: pytz>=2020.1 in /usr/local/lib/python3.11/dist-packages (from pandas->pandasql) (2025.1)\n",
            "Requirement already satisfied: tzdata>=2022.7 in /usr/local/lib/python3.11/dist-packages (from pandas->pandasql) (2025.1)\n",
            "Requirement already satisfied: greenlet!=0.4.17 in /usr/local/lib/python3.11/dist-packages (from sqlalchemy->pandasql) (3.1.1)\n",
            "Requirement already satisfied: typing-extensions>=4.6.0 in /usr/local/lib/python3.11/dist-packages (from sqlalchemy->pandasql) (4.12.2)\n",
            "Requirement already satisfied: six>=1.5 in /usr/local/lib/python3.11/dist-packages (from python-dateutil>=2.8.2->pandas->pandasql) (1.17.0)\n"
          ]
        }
      ]
    },
    {
      "cell_type": "code",
      "source": [
        "print(df.head())"
      ],
      "metadata": {
        "colab": {
          "base_uri": "https://localhost:8080/"
        },
        "id": "vqfbmAF618hl",
        "outputId": "9aae2aef-540b-4bdc-de2d-37e6856c2b61"
      },
      "execution_count": 40,
      "outputs": [
        {
          "output_type": "stream",
          "name": "stdout",
          "text": [
            "   ccode        cname  ccode_qog    cname_qog ccodealp  ccodecow  \\\n",
            "0      4  Afghanistan          4  Afghanistan      AFG     700.0   \n",
            "1      8      Albania          8      Albania      ALB     339.0   \n",
            "2     12      Algeria         12      Algeria      DZA     615.0   \n",
            "3     20      Andorra         20      Andorra      AND     232.0   \n",
            "4     24       Angola         24       Angola      AGO     540.0   \n",
            "\n",
            "         version  ajr_settmort  atop_ally  atop_number  ...  wvs_imprel  \\\n",
            "0  QoGBasCSjan24      4.540098        1.0          1.0  ...         NaN   \n",
            "1  QoGBasCSjan24           NaN        1.0          8.0  ...    2.869328   \n",
            "2  QoGBasCSjan24      4.359270        1.0          9.0  ...         NaN   \n",
            "3  QoGBasCSjan24           NaN        1.0          2.0  ...    2.034930   \n",
            "4  QoGBasCSjan24      5.634789        1.0          8.0  ...         NaN   \n",
            "\n",
            "   wvs_pmi12  wvs_psarmy  wvs_psdem  wvs_psexp  wvs_pssl  wvs_relacc  \\\n",
            "0        NaN         NaN        NaN        NaN       NaN         NaN   \n",
            "1        NaN    1.596485   3.849031   3.475513  1.744196         NaN   \n",
            "2        NaN         NaN        NaN        NaN       NaN         NaN   \n",
            "3   2.710393    1.336049   3.681363   2.635721  1.830491    1.751004   \n",
            "4        NaN         NaN        NaN        NaN       NaN         NaN   \n",
            "\n",
            "   wvs_satfin  wvs_subh  wvs_trust  \n",
            "0         NaN       NaN        NaN  \n",
            "1         NaN  3.488758   0.027857  \n",
            "2         NaN       NaN        NaN  \n",
            "3    6.561316  4.089642   0.255744  \n",
            "4         NaN       NaN        NaN  \n",
            "\n",
            "[5 rows x 337 columns]\n"
          ]
        }
      ]
    },
    {
      "cell_type": "code",
      "source": [
        "# Check if 'ht_region' exists in the dataset\n",
        "if 'ht_region' in df.columns:\n",
        "    # Define the mapping for the regions\n",
        "    region_mapping = {\n",
        "        1: \"Eastern Europe and post Soviet Union (including Central Asia)\",\n",
        "        2: \"Latin America (including Cuba, Haiti & the Dominican Republic)\",\n",
        "        3: \"North Africa & the Middle East (including Israel, Turkey & Cyprus)\",\n",
        "        4: \"Sub-Saharan Africa\",\n",
        "        5: \"Western Europe and North America (including Australia & New Zealand)\",\n",
        "        6: \"East Asia (including Japan & Mongolia)\",\n",
        "        7: \"South-East Asia\",\n",
        "        8: \"South Asia\",\n",
        "        9: \"The Pacific (excluding Australia & New Zealand)\",\n",
        "        10: \"The Caribbean (including Belize, Guyana & Suriname, but excluding Cuba, Haiti & the Dominican Republic)\"\n",
        "    }\n",
        "\n",
        "    # Recode the 'ht_region' variable\n",
        "    df['ht_region_recoded'] = df['ht_region'].map(region_mapping)\n"
      ],
      "metadata": {
        "id": "6iLSp9w25QPz"
      },
      "execution_count": 41,
      "outputs": []
    },
    {
      "cell_type": "markdown",
      "source": [
        "**Great!  Here is our first example below ...**"
      ],
      "metadata": {
        "id": "jZOw1JVKQiSd"
      }
    },
    {
      "cell_type": "markdown",
      "source": [
        "**query0: What is the GDP per capita (wdi_gdpcapcon2015) for the first 10 countries in the dataset?**"
      ],
      "metadata": {
        "id": "E_rzcuDiIk89"
      }
    },
    {
      "cell_type": "code",
      "source": [
        "query0 = \"\"\"\n",
        "SELECT wdi_gdpcapcon2015 FROM df LIMIT 10\n",
        "\"\"\"\n",
        "print(psql.sqldf(query0, locals()))"
      ],
      "metadata": {
        "colab": {
          "base_uri": "https://localhost:8080/"
        },
        "id": "0csqD-dv-lkc",
        "outputId": "d5b32ac4-c993-423d-c119-aba5a494af37"
      },
      "execution_count": 42,
      "outputs": [
        {
          "output_type": "stream",
          "name": "stdout",
          "text": [
            "   wdi_gdpcapcon2015\n",
            "0         553.036133\n",
            "1        4418.660645\n",
            "2        3873.508789\n",
            "3       34394.414062\n",
            "4        2346.845947\n",
            "5       14433.879883\n",
            "6        5083.561035\n",
            "7       11341.268555\n",
            "8       58115.929688\n",
            "9       43455.699219\n"
          ]
        }
      ]
    },
    {
      "cell_type": "markdown",
      "source": [
        "**query1: Please also include the country names (cname) along with the GDP per capita for the first 10 countries in the dataset**"
      ],
      "metadata": {
        "id": "zz89o_qRIs7x"
      }
    },
    {
      "source": [
        "query1 = \"\"\"\n",
        "SELECT cname, wdi_gdpcapcon2015 FROM df LIMIT 10\n",
        "\"\"\"\n",
        "print(psql.sqldf(query1, locals()))"
      ],
      "cell_type": "code",
      "metadata": {
        "colab": {
          "base_uri": "https://localhost:8080/"
        },
        "id": "bKjBwdNdIRdq",
        "outputId": "ab06c8e7-0656-40a9-d8ce-b0f41e01033b"
      },
      "execution_count": 43,
      "outputs": [
        {
          "output_type": "stream",
          "name": "stdout",
          "text": [
            "                 cname  wdi_gdpcapcon2015\n",
            "0          Afghanistan         553.036133\n",
            "1              Albania        4418.660645\n",
            "2              Algeria        3873.508789\n",
            "3              Andorra       34394.414062\n",
            "4               Angola        2346.845947\n",
            "5  Antigua and Barbuda       14433.879883\n",
            "6           Azerbaijan        5083.561035\n",
            "7            Argentina       11341.268555\n",
            "8            Australia       58115.929688\n",
            "9              Austria       43455.699219\n"
          ]
        }
      ]
    },
    {
      "cell_type": "markdown",
      "source": [
        "**query2: List the top 10 countries with the highest GDP per capita.**"
      ],
      "metadata": {
        "id": "m6QIlQIFI4D3"
      }
    },
    {
      "cell_type": "code",
      "source": [
        "query2 = \"\"\"\n",
        "SELECT cname, wdi_gdpcapcon2015 FROM df ORDER BY wdi_gdpcapcon2015 DESC LIMIT 10\n",
        "\"\"\"\n",
        "print(psql.sqldf(query2, locals()))"
      ],
      "metadata": {
        "id": "08b_5C23GcFP",
        "colab": {
          "base_uri": "https://localhost:8080/"
        },
        "outputId": "2152ab7b-5291-4a29-fd18-7e3d7b3af3d9"
      },
      "execution_count": 44,
      "outputs": [
        {
          "output_type": "stream",
          "name": "stdout",
          "text": [
            "                            cname  wdi_gdpcapcon2015\n",
            "0                          Monaco      166910.625000\n",
            "1                      Luxembourg      104128.242188\n",
            "2                     Switzerland       84434.781250\n",
            "3                         Ireland       79074.539062\n",
            "4                          Norway       75287.203125\n",
            "5                       Singapore       59175.812500\n",
            "6                           Qatar       58476.199219\n",
            "7  United States of America (the)       58451.605469\n",
            "8                       Australia       58115.929688\n",
            "9                         Denmark       55898.789062\n"
          ]
        }
      ]
    },
    {
      "cell_type": "markdown",
      "source": [
        "**query3: What is the average GDP per capita for each region (ht_region_recoded)?**"
      ],
      "metadata": {
        "id": "kNH0QHxuJAYt"
      }
    },
    {
      "source": [
        "query3 = \"\"\"\n",
        "SELECT ht_region_recoded, AVG(wdi_gdpcapcon2015) AS ave_wdi_gdpcapcon2015\n",
        "FROM df\n",
        "GROUP BY ht_region_recoded\n",
        "\"\"\"\n",
        "print(psql.sqldf(query3, locals()))"
      ],
      "cell_type": "code",
      "metadata": {
        "colab": {
          "base_uri": "https://localhost:8080/"
        },
        "id": "j4LmEuMmNQi9",
        "outputId": "0a5596f9-cc4a-4be6-f27a-34c38c6c547f"
      },
      "execution_count": 45,
      "outputs": [
        {
          "output_type": "stream",
          "name": "stdout",
          "text": [
            "                                   ht_region_recoded  ave_wdi_gdpcapcon2015\n",
            "0             East Asia (including Japan & Mongolia)           20110.127441\n",
            "1  Eastern Europe and post Soviet Union (includin...            9311.723890\n",
            "2  Latin America (including Cuba, Haiti & the Dom...            7173.676404\n",
            "3  North Africa & the Middle East (including Isra...           15105.592072\n",
            "4                                         South Asia            2563.683060\n",
            "5                                    South-East Asia           11261.471391\n",
            "6                                 Sub-Saharan Africa            2167.969373\n",
            "7  The Caribbean (including Belize, Guyana & Suri...           10943.911696\n",
            "8    The Pacific (excluding Australia & New Zealand)            4680.120127\n",
            "9  Western Europe and North America (including Au...           52162.679763\n"
          ]
        }
      ]
    },
    {
      "cell_type": "markdown",
      "source": [
        "**query4: What is the average GDP per capita for each region, ordered from highest to lowest?**"
      ],
      "metadata": {
        "id": "IA5Cx_LZJE1u"
      }
    },
    {
      "cell_type": "code",
      "source": [
        "query4 = \"\"\"\n",
        "SELECT ht_region_recoded, AVG(wdi_gdpcapcon2015) AS ave_wdi_gdpcapcon2015\n",
        "FROM df\n",
        "GROUP BY ht_region_recoded\n",
        "ORDER BY ave_wdi_gdpcapcon2015 DESC\n",
        "\"\"\"\n",
        "print(psql.sqldf(query4, locals()))"
      ],
      "metadata": {
        "id": "ch1PCigLG63w",
        "colab": {
          "base_uri": "https://localhost:8080/"
        },
        "outputId": "c282f0bd-522b-4705-8aed-f913087f52c8"
      },
      "execution_count": 46,
      "outputs": [
        {
          "output_type": "stream",
          "name": "stdout",
          "text": [
            "                                   ht_region_recoded  ave_wdi_gdpcapcon2015\n",
            "0  Western Europe and North America (including Au...           52162.679763\n",
            "1             East Asia (including Japan & Mongolia)           20110.127441\n",
            "2  North Africa & the Middle East (including Isra...           15105.592072\n",
            "3                                    South-East Asia           11261.471391\n",
            "4  The Caribbean (including Belize, Guyana & Suri...           10943.911696\n",
            "5  Eastern Europe and post Soviet Union (includin...            9311.723890\n",
            "6  Latin America (including Cuba, Haiti & the Dom...            7173.676404\n",
            "7    The Pacific (excluding Australia & New Zealand)            4680.120127\n",
            "8                                         South Asia            2563.683060\n",
            "9                                 Sub-Saharan Africa            2167.969373\n"
          ]
        }
      ]
    },
    {
      "cell_type": "markdown",
      "source": [
        "**query5: Do all countries have a valid measure of GDP per capita?  How many countries have a non-null GDP per capita value?**"
      ],
      "metadata": {
        "id": "roSDDiBhJINl"
      }
    },
    {
      "cell_type": "code",
      "source": [
        "query5 = \"\"\"\n",
        "SELECT COUNT(cname)\n",
        "FROM df\n",
        "WHERE wdi_gdpcapcon2015 IS NOT NULL\n",
        "\"\"\"\n",
        "print(psql.sqldf(query5, locals()))\n",
        "\n"
      ],
      "metadata": {
        "id": "DywR_wn6LPFn",
        "colab": {
          "base_uri": "https://localhost:8080/"
        },
        "outputId": "c8e3369b-9c90-4afd-963d-e59ff61b7b54"
      },
      "execution_count": 47,
      "outputs": [
        {
          "output_type": "stream",
          "name": "stdout",
          "text": [
            "   COUNT(cname)\n",
            "0           188\n"
          ]
        }
      ]
    },
    {
      "cell_type": "markdown",
      "source": [
        "**query6: Actually, how many total records/rows (countries) are in the dataset?**"
      ],
      "metadata": {
        "id": "o7N_sqKSJSMW"
      }
    },
    {
      "cell_type": "code",
      "source": [
        "query6 = \"\"\"\n",
        "SELECT COUNT(*)\n",
        "FROM df\n",
        "\"\"\"\n",
        "\n",
        "print(psql.sqldf(query6, locals()))\n"
      ],
      "metadata": {
        "id": "MP73jesyQrsl",
        "colab": {
          "base_uri": "https://localhost:8080/"
        },
        "outputId": "28eb7f3f-467d-4c36-9cc7-e9e3437b90e9"
      },
      "execution_count": 48,
      "outputs": [
        {
          "output_type": "stream",
          "name": "stdout",
          "text": [
            "   COUNT(*)\n",
            "0       194\n"
          ]
        }
      ]
    },
    {
      "cell_type": "markdown",
      "source": [
        "**query7: In terms of proportions, what proportion of the dataset has a valid (non-null) GDP per capita value?**"
      ],
      "metadata": {
        "id": "vNiKJ_RNJfuu"
      }
    },
    {
      "source": [
        "query7 = \"\"\"\n",
        "SELECT CAST(SUM(CASE WHEN wdi_gdpcapcon2015 IS NOT NULL THEN 1 ELSE 0 END) AS REAL) / COUNT(*) AS proportion_not_null\n",
        "FROM df\n",
        "\"\"\"\n",
        "\n",
        "print(psql.sqldf(query7, locals()))"
      ],
      "cell_type": "code",
      "metadata": {
        "colab": {
          "base_uri": "https://localhost:8080/"
        },
        "id": "ln80qqz-PBT3",
        "outputId": "68ea5824-9aab-4854-db58-f680fe8d3290"
      },
      "execution_count": 49,
      "outputs": [
        {
          "output_type": "stream",
          "name": "stdout",
          "text": [
            "   proportion_not_null\n",
            "0             0.969072\n"
          ]
        }
      ]
    },
    {
      "cell_type": "markdown",
      "source": [
        "**query8: What one country has the highest Bayesian Corruption Index (bci_bci) value and which one country has the lowest Bayesian Corruption Index value?**"
      ],
      "metadata": {
        "id": "g_Wi2PQPJo73"
      }
    },
    {
      "cell_type": "code",
      "source": [
        "query8 = \"\"\"\n",
        "SELECT cname, bci_bci\n",
        "FROM df\n",
        "WHERE bci_bci = (SELECT MAX(bci_bci) FROM df)\n",
        "OR bci_bci = (SELECT MIN(bci_bci) FROM df)\n",
        "\"\"\"\n",
        "\n",
        "print(psql.sqldf(query8, locals()))"
      ],
      "metadata": {
        "id": "ZW4t9QWMUk94",
        "colab": {
          "base_uri": "https://localhost:8080/"
        },
        "outputId": "30d294eb-cf4b-4b84-e583-4509f8095ea5"
      },
      "execution_count": 50,
      "outputs": [
        {
          "output_type": "stream",
          "name": "stdout",
          "text": [
            "           cname    bci_bci\n",
            "0        Finland  -3.027579\n",
            "1  Guinea-Bissau  78.833908\n"
          ]
        }
      ]
    },
    {
      "cell_type": "markdown",
      "source": [
        "**query9: Please provide me with the 5 countries with the lowest bci_bci values.**"
      ],
      "metadata": {
        "id": "Aa0AOuFwKQrf"
      }
    },
    {
      "cell_type": "code",
      "source": [
        "query9 = \"\"\"\n",
        "SELECT cname, bci_bci FROM df ORDER BY bci_bci LIMIT 5\n",
        "\"\"\"\n",
        "\n",
        "print(psql.sqldf(query9, locals()))"
      ],
      "metadata": {
        "id": "KiHcPg-mV4xZ",
        "colab": {
          "base_uri": "https://localhost:8080/"
        },
        "outputId": "01686821-e108-4026-bcdb-99b4bd9a0ac0"
      },
      "execution_count": 51,
      "outputs": [
        {
          "output_type": "stream",
          "name": "stdout",
          "text": [
            "         cname   bci_bci\n",
            "0       Monaco       NaN\n",
            "1   San Marino       NaN\n",
            "2      Finland -3.027579\n",
            "3      Denmark -2.424890\n",
            "4  New Zealand -0.807745\n"
          ]
        }
      ]
    },
    {
      "cell_type": "markdown",
      "source": [
        "**query10: Please provide me with the 5 countries with the lowest bci_bci values, but make sure to exclude null values.**"
      ],
      "metadata": {
        "id": "wvQ8X2iUKYIv"
      }
    },
    {
      "source": [
        "query10 = \"\"\"\n",
        "SELECT cname, bci_bci\n",
        "FROM df\n",
        "WHERE bci_bci IS NOT NULL\n",
        "ORDER BY bci_bci ASC\n",
        "LIMIT 5\n",
        "\"\"\"\n",
        "\n",
        "print(psql.sqldf(query10, locals()))"
      ],
      "cell_type": "code",
      "metadata": {
        "colab": {
          "base_uri": "https://localhost:8080/"
        },
        "id": "bigd0Is2QZTq",
        "outputId": "9bc88573-7391-464e-c12d-13b5c9c77033"
      },
      "execution_count": 52,
      "outputs": [
        {
          "output_type": "stream",
          "name": "stdout",
          "text": [
            "         cname   bci_bci\n",
            "0      Finland -3.027579\n",
            "1      Denmark -2.424890\n",
            "2  New Zealand -0.807745\n",
            "3    Singapore -0.040676\n",
            "4       Norway  1.965207\n"
          ]
        }
      ]
    },
    {
      "cell_type": "markdown",
      "source": [
        "**query11: Please provide me with the full list of countries that have valid (non-null) values for all three of these variables: GDP per capita, population size (pwt_pop), and Bayesian Corruption Index.**"
      ],
      "metadata": {
        "id": "6LN7_YLaKv13"
      }
    },
    {
      "cell_type": "code",
      "source": [
        "query11 = \"\"\"\n",
        "SELECT cname\n",
        "FROM df\n",
        "WHERE wdi_gdpcapcon2015 IS NOT NULL\n",
        "AND pwt_pop IS NOT NULL\n",
        "AND bci_bci IS NOT NULL\n",
        "\"\"\"\n",
        "\n",
        "print(psql.sqldf(query11, locals()))"
      ],
      "metadata": {
        "id": "H7_OfAdvXg11",
        "colab": {
          "base_uri": "https://localhost:8080/"
        },
        "outputId": "14c362ec-559c-4a0b-a5cf-b1f2202c1830"
      },
      "execution_count": 53,
      "outputs": [
        {
          "output_type": "stream",
          "name": "stdout",
          "text": [
            "                   cname\n",
            "0                Albania\n",
            "1                Algeria\n",
            "2                 Angola\n",
            "3    Antigua and Barbuda\n",
            "4             Azerbaijan\n",
            "..                   ...\n",
            "164         Burkina Faso\n",
            "165              Uruguay\n",
            "166           Uzbekistan\n",
            "167                Yemen\n",
            "168               Zambia\n",
            "\n",
            "[169 rows x 1 columns]\n"
          ]
        }
      ]
    },
    {
      "cell_type": "markdown",
      "source": [
        "**query13: Please provide me with confirmation of whether the USA is included in the list of countries that have valid (non-null) GDP per capita, population size, and Bayesian Corruption Index values.  See if the 3-digit Country Code (ccodealp) of 'USA' is in the list.**"
      ],
      "metadata": {
        "id": "GSt7gF0UK7t5"
      }
    },
    {
      "cell_type": "code",
      "source": [
        "query13 = \"\"\"\n",
        "SELECT cname\n",
        "FROM df\n",
        "WHERE wdi_gdpcapcon2015 IS NOT NULL\n",
        " AND pwt_pop IS NOT NULL\n",
        " AND bci_bci IS NOT NULL\n",
        " AND ccodealp = 'USA'\n",
        "\"\"\"\n",
        "\n",
        "print(psql.sqldf(query13, locals()))"
      ],
      "metadata": {
        "id": "rZ6A2HrxZU4L",
        "colab": {
          "base_uri": "https://localhost:8080/"
        },
        "outputId": "1da2a16b-8eba-43aa-c818-69e482d726e9"
      },
      "execution_count": 54,
      "outputs": [
        {
          "output_type": "stream",
          "name": "stdout",
          "text": [
            "                            cname\n",
            "0  United States of America (the)\n"
          ]
        }
      ]
    },
    {
      "cell_type": "markdown",
      "source": [
        "**query13: Please provide me with confirmation of whether the made-up country of IOU is included in the list of countries that have valid (non-null) GDP per capita, population size, and Bayesian Corruption Index values.  See if the 3-digit Country Code (ccodealp) of 'USA' is in the list**"
      ],
      "metadata": {
        "id": "Efq2Hn-DLdz5"
      }
    },
    {
      "cell_type": "code",
      "source": [
        "query14 = \"\"\"\n",
        "SELECT cname\n",
        "FROM df\n",
        "WHERE wdi_gdpcapcon2015 IS NOT NULL\n",
        " AND pwt_pop IS NOT NULL\n",
        " AND bci_bci IS NOT NULL\n",
        " AND ccodealp = 'IOU'\n",
        "\"\"\"\n",
        "\n",
        "print(psql.sqldf(query14, locals()))"
      ],
      "metadata": {
        "id": "NG0xQ_D0ZnAb",
        "colab": {
          "base_uri": "https://localhost:8080/"
        },
        "outputId": "a027d338-9934-4f18-e68c-90a8efe89ff2"
      },
      "execution_count": 67,
      "outputs": [
        {
          "output_type": "stream",
          "name": "stdout",
          "text": [
            "Empty DataFrame\n",
            "Columns: [cname]\n",
            "Index: []\n"
          ]
        }
      ]
    },
    {
      "cell_type": "markdown",
      "source": [
        "**query18: Please rank countries along each of these 3 dimension: GDP per capita, population size, and Bayesian Corruption Index.  And then give me the top 10 (highest-ranked, meaning the best) countries where these rankings are blended in these proportions: GDP per capita (50%), population size (20%), and Bayesian Corruption Index (30%)**"
      ],
      "metadata": {
        "id": "cSJJI9ASLxBA"
      }
    },
    {
      "cell_type": "code",
      "source": [
        "query18 = \"\"\"\n",
        "WITH Ranked AS (\n",
        "    SELECT\n",
        "        cname,\n",
        "        RANK() OVER (ORDER BY wdi_gdpcapcon2015 DESC) AS rank_gdp,\n",
        "        RANK() OVER (ORDER BY pwt_pop DESC) AS rank_pop,\n",
        "        RANK() OVER (ORDER BY bci_bci DESC) AS rank_bci\n",
        "    FROM df\n",
        "),\n",
        "WeightedScores AS (\n",
        "    SELECT\n",
        "        cname,\n",
        "        (rank_gdp * 0.50) + (rank_pop * 0.20) + (rank_bci * 0.30) AS weighted_score\n",
        "    FROM Ranked\n",
        ")\n",
        "SELECT cname, weighted_score\n",
        "FROM WeightedScores\n",
        "ORDER BY weighted_score ASC\n",
        "LIMIT 10;\n",
        "\"\"\"\n",
        "\n",
        "# Execute SQL query\n",
        "print(psql.sqldf(query18, locals()))"
      ],
      "metadata": {
        "id": "VSgDOK2-zoqs",
        "colab": {
          "base_uri": "https://localhost:8080/"
        },
        "outputId": "2a9c2a3c-2853-4881-e8b8-22cea4f9737e"
      },
      "execution_count": 70,
      "outputs": [
        {
          "output_type": "stream",
          "name": "stdout",
          "text": [
            "                            cname  weighted_score\n",
            "0        Russian Federation (the)            46.3\n",
            "1                          Mexico            50.8\n",
            "2  United States of America (the)            52.9\n",
            "3                           Italy            57.5\n",
            "4                       Argentina            59.0\n",
            "5         Korea (the Republic of)            62.3\n",
            "6      Iran (Islamic Republic of)            63.2\n",
            "7                    Turkmenistan            63.9\n",
            "8                           China            65.5\n",
            "9                           Palau            65.9\n"
          ]
        }
      ]
    },
    {
      "cell_type": "markdown",
      "source": [
        "**query19: Now, please provide the list of the least 10 (least-ranked) countries on these dimensions.**"
      ],
      "metadata": {
        "id": "2hZlOWxLMnwq"
      }
    },
    {
      "cell_type": "code",
      "source": [
        "query19 = \"\"\"\n",
        "WITH Ranked AS (\n",
        "    SELECT\n",
        "        cname,\n",
        "        RANK() OVER (ORDER BY wdi_gdpcapcon2015 DESC) AS rank_gdp,\n",
        "        RANK() OVER (ORDER BY pwt_pop DESC) AS rank_pop,\n",
        "        RANK() OVER (ORDER BY bci_bci DESC) AS rank_bci\n",
        "    FROM df\n",
        "),\n",
        "WeightedScores AS (\n",
        "    SELECT\n",
        "        cname,\n",
        "        (rank_gdp * 0.50) + (rank_pop * 0.20) + (rank_bci * 0.30) AS weighted_score\n",
        "    FROM Ranked\n",
        ")\n",
        "SELECT cname, weighted_score\n",
        "FROM WeightedScores\n",
        "ORDER BY weighted_score DESC\n",
        "LIMIT 10;\n",
        "\"\"\"\n",
        "\n",
        "# Execute SQL query\n",
        "print(psql.sqldf(query19, locals()))"
      ],
      "metadata": {
        "id": "djpEg4GT3x3d",
        "colab": {
          "base_uri": "https://localhost:8080/"
        },
        "outputId": "19368d21-6ab3-4dde-83ae-06f4aaf73c68"
      },
      "execution_count": 71,
      "outputs": [
        {
          "output_type": "stream",
          "name": "stdout",
          "text": [
            "                              cname  weighted_score\n",
            "0                     Liechtenstein           185.0\n",
            "1        Taiwan (Province of China)           153.0\n",
            "2                            Rwanda           148.2\n",
            "3                            Bhutan           148.0\n",
            "4                           Lesotho           145.3\n",
            "5             Sao Tome and Principe           143.1\n",
            "6  Micronesia (Federated States of)           143.1\n",
            "7                   Solomon Islands           139.9\n",
            "8                          Kiribati           139.8\n",
            "9                       Niger (the)           137.0\n"
          ]
        }
      ]
    },
    {
      "cell_type": "markdown",
      "source": [
        "Just run this code to bring in another dataframe."
      ],
      "metadata": {
        "id": "AtBD5kU6M0kh"
      }
    },
    {
      "cell_type": "code",
      "source": [
        "import pandas as pd\n",
        "\n",
        "# URL of the Wikipedia page\n",
        "url = 'https://en.wikipedia.org/wiki/List_of_countries_by_English-speaking_population'\n",
        "\n",
        "# Read all tables from the webpage into a list of DataFrames\n",
        "tables = pd.read_html(url)\n",
        "\n",
        "# Select the table of interest (likely table 5)\n",
        "dfw = tables[5]\n",
        "\n",
        "# Rename columns properly and remove the first row\n",
        "dfw.columns = dfw.iloc[0]  # Assign first row as column names\n",
        "dfw = dfw[1:].reset_index(drop=True)  # Remove the first row and reset index\n",
        "\n",
        "# Select 'Country' and the correct percentage column (index 3)\n",
        "dfw_selected = dfw.iloc[:, [0, 3]]  # Column 0 = 'Country', Column 3 = '% of English speakers'\n",
        "\n",
        "# Rename columns\n",
        "dfw_selected.columns = ['Country', 'PerEng']\n",
        "\n",
        "# Remove percentage sign, handle empty strings, and convert to integers\n",
        "dfw_selected['PerEng'] = (\n",
        "    dfw_selected['PerEng']\n",
        "    .str.replace('%', '', regex=False)  # Remove percentage sign\n",
        "    .str.strip()  # Remove any extra spaces\n",
        "    .replace('', pd.NA)  # Replace empty strings with NaN\n",
        "    .dropna()  # Drop rows with NaN values\n",
        "    .astype(float)  # Convert to float first\n",
        "    .astype(int)  # Convert to integer\n",
        ")\n",
        "\n",
        "\n",
        "# Display cleaned dataframe\n",
        "\n",
        "df1 = dfw_selected.copy()\n",
        "print(df1.head())"
      ],
      "metadata": {
        "colab": {
          "base_uri": "https://localhost:8080/"
        },
        "id": "401H4A5mcK0K",
        "outputId": "1d96a8f4-192a-4946-ac35-f8484f8f765f"
      },
      "execution_count": 72,
      "outputs": [
        {
          "output_type": "stream",
          "name": "stdout",
          "text": [
            "         Country  PerEng\n",
            "0        Country     NaN\n",
            "1  United States    95.0\n",
            "2          India    15.0\n",
            "3        Nigeria    60.0\n",
            "4       Pakistan    48.0\n"
          ]
        },
        {
          "output_type": "stream",
          "name": "stderr",
          "text": [
            "<ipython-input-72-ed519bf9cf71>:23: SettingWithCopyWarning: \n",
            "A value is trying to be set on a copy of a slice from a DataFrame.\n",
            "Try using .loc[row_indexer,col_indexer] = value instead\n",
            "\n",
            "See the caveats in the documentation: https://pandas.pydata.org/pandas-docs/stable/user_guide/indexing.html#returning-a-view-versus-a-copy\n",
            "  dfw_selected['PerEng'] = (\n"
          ]
        }
      ]
    },
    {
      "cell_type": "markdown",
      "source": [
        "We need to get a common ID to merge on.  Just run this code below:"
      ],
      "metadata": {
        "id": "L22v2MnL4mT4"
      }
    },
    {
      "cell_type": "code",
      "source": [
        "!pip install pycountry\n",
        "\n",
        "import pycountry\n",
        "\n",
        "def get_country_code(country_name):\n",
        "    \"\"\"\n",
        "    Returns the 3-letter country code (ISO Alpha-3) for a given country name.\n",
        "    Uses pycountry's lookup function with some manual adjustments for mismatches.\n",
        "    \"\"\"\n",
        "    # Manual country corrections for common mismatches\n",
        "    country_corrections = {\n",
        "        \"United States\": \"USA\",\n",
        "        \"United Kingdom\": \"GBR\",\n",
        "        \"South Korea\": \"KOR\",\n",
        "        \"North Korea\": \"PRK\",\n",
        "        \"Russia\": \"RUS\",\n",
        "        \"Venezuela (Bolivarian Republic of)\": \"VEN\",\n",
        "        \"Syria\": \"SYR\",\n",
        "        \"Iran\": \"IRN\",\n",
        "        \"Vietnam\": \"VNM\",\n",
        "        \"Bolivia\": \"BOL\",\n",
        "        \"Czechia\": \"CZE\",\n",
        "        \"Brunei\": \"BRN\",\n",
        "        \"Congo (Democratic Republic of the)\": \"COD\",\n",
        "        \"Congo (Republic of the)\": \"COG\",\n",
        "        \"Laos\": \"LAO\",\n",
        "        \"Moldova\": \"MDA\",\n",
        "        \"Tanzania\": \"TZA\",\n",
        "        \"Palestine\": \"PSE\",\n",
        "        \"Ivory Coast\": \"CIV\",\n",
        "        \"Myanmar\": \"MMR\",\n",
        "        \"Eswatini\": \"SWZ\",\n",
        "        \"Micronesia\": \"FSM\",\n",
        "        \"Gambia\": \"GMB\",\n",
        "        \"Saint Kitts and Nevis\": \"KNA\",\n",
        "        \"Saint Vincent and the Grenadines\": \"VCT\",\n",
        "        \"Solomon Islands\": \"SLB\"\n",
        "    }\n",
        "\n",
        "    # Check if manually corrected first\n",
        "    if country_name in country_corrections:\n",
        "        return country_corrections[country_name]\n",
        "\n",
        "    # Try to find the country using pycountry\n",
        "    try:\n",
        "        return pycountry.countries.lookup(country_name).alpha_3\n",
        "    except LookupError:\n",
        "        return None  # Return None if no match found\n",
        "\n",
        "def add_country_code(df, country_col=\"Country\"):\n",
        "    \"\"\"\n",
        "    Adds a new column 'ccodealp' to a DataFrame based on the given 'Country' column.\n",
        "    Uses get_country_code() to map countries to 3-letter ISO Alpha-3 codes.\n",
        "    \"\"\"\n",
        "    df[\"ccodealp\"] = df[country_col].apply(get_country_code)\n",
        "    return df\n"
      ],
      "metadata": {
        "colab": {
          "base_uri": "https://localhost:8080/"
        },
        "id": "RABtgex_6ZHA",
        "outputId": "15596409-e249-4a56-9d95-7758c243f107"
      },
      "execution_count": 73,
      "outputs": [
        {
          "output_type": "stream",
          "name": "stdout",
          "text": [
            "Requirement already satisfied: pycountry in /usr/local/lib/python3.11/dist-packages (24.6.1)\n"
          ]
        }
      ]
    },
    {
      "cell_type": "markdown",
      "source": [
        "Now, I am running the function and attaching the 3-letter country codes to the df1 dataframe.  Just run this."
      ],
      "metadata": {
        "id": "eccVSwqGNAOS"
      }
    },
    {
      "cell_type": "code",
      "source": [
        "df1 = add_country_code(df1, country_col=\"Country\")"
      ],
      "metadata": {
        "id": "UD-BGj5X6mdZ"
      },
      "execution_count": 74,
      "outputs": []
    },
    {
      "cell_type": "markdown",
      "source": [
        "**query20: Please merge via an inner join the two dataframes together.  Create a new dataset called 'final_df' which combines the main dataset (df) with the dataset of English-speaking populations (df1) using the country code (ccodealp).**"
      ],
      "metadata": {
        "id": "uUsYKZZGNv0y"
      }
    },
    {
      "source": [
        "import pandasql as psql\n",
        "\n",
        "query20 = \"\"\"\n",
        "SELECT df.*, df1.PerEng\n",
        "FROM df\n",
        "INNER JOIN df1 ON df.ccodealp = df1.ccodealp\n",
        "\"\"\"\n",
        "\n",
        "final_df = psql.sqldf(query20, locals())\n",
        "print(final_df.head())"
      ],
      "cell_type": "code",
      "metadata": {
        "colab": {
          "base_uri": "https://localhost:8080/"
        },
        "id": "z-r_FGzvXS-T",
        "outputId": "b084fc27-6822-49e4-816e-a94f32ed9b91"
      },
      "execution_count": 77,
      "outputs": [
        {
          "output_type": "stream",
          "name": "stdout",
          "text": [
            "   ccode                cname  ccode_qog            cname_qog ccodealp  \\\n",
            "0      4          Afghanistan          4          Afghanistan      AFG   \n",
            "1     12              Algeria         12              Algeria      DZA   \n",
            "2     20              Andorra         20              Andorra      AND   \n",
            "3     28  Antigua and Barbuda         28  Antigua and Barbuda      ATG   \n",
            "4     32            Argentina         32            Argentina      ARG   \n",
            "\n",
            "   ccodecow        version  ajr_settmort  atop_ally  atop_number  ...  \\\n",
            "0     700.0  QoGBasCSjan24      4.540098        1.0          1.0  ...   \n",
            "1     615.0  QoGBasCSjan24      4.359270        1.0          9.0  ...   \n",
            "2     232.0  QoGBasCSjan24           NaN        1.0          2.0  ...   \n",
            "3      58.0  QoGBasCSjan24           NaN        1.0          3.0  ...   \n",
            "4     160.0  QoGBasCSjan24      4.232656        1.0          3.0  ...   \n",
            "\n",
            "   wvs_psarmy  wvs_psdem  wvs_psexp  wvs_pssl  wvs_relacc  wvs_satfin  \\\n",
            "0         NaN        NaN        NaN       NaN         NaN         NaN   \n",
            "1         NaN        NaN        NaN       NaN         NaN         NaN   \n",
            "2    1.336049   3.681363   2.635721  1.830491    1.751004    6.561316   \n",
            "3         NaN        NaN        NaN       NaN         NaN         NaN   \n",
            "4    1.606765   3.537564   2.640615  2.688117    2.031211    5.802369   \n",
            "\n",
            "   wvs_subh  wvs_trust                                  ht_region_recoded  \\\n",
            "0       NaN        NaN                                         South Asia   \n",
            "1       NaN        NaN  North Africa & the Middle East (including Isra...   \n",
            "2  4.089642   0.255744  Western Europe and North America (including Au...   \n",
            "3       NaN        NaN  The Caribbean (including Belize, Guyana & Suri...   \n",
            "4  3.797390   0.201043  Latin America (including Cuba, Haiti & the Dom...   \n",
            "\n",
            "   PerEng  \n",
            "0     6.0  \n",
            "1     7.0  \n",
            "2    22.0  \n",
            "3    80.0  \n",
            "4     6.0  \n",
            "\n",
            "[5 rows x 339 columns]\n"
          ]
        }
      ]
    },
    {
      "cell_type": "markdown",
      "source": [
        "**query21: Let's check for duplicates during the merging process.  Please provide me with any country names that appear more than once in the merged dataset (final_df) and the number of times they appear.**"
      ],
      "metadata": {
        "id": "i4qab2SnObCL"
      }
    },
    {
      "source": [
        "query21 = \"\"\"\n",
        "SELECT cname, COUNT(*) AS count\n",
        "FROM final_df\n",
        "GROUP BY cname\n",
        "HAVING COUNT(*) > 1\n",
        "\"\"\"\n",
        "\n",
        "print(psql.sqldf(query21, locals()))"
      ],
      "cell_type": "code",
      "metadata": {
        "colab": {
          "base_uri": "https://localhost:8080/"
        },
        "id": "s7RBuLPXU09j",
        "outputId": "c06b1ac8-9105-44b7-9046-9666e6c114ec"
      },
      "execution_count": 78,
      "outputs": [
        {
          "output_type": "stream",
          "name": "stdout",
          "text": [
            "Empty DataFrame\n",
            "Columns: [cname, count]\n",
            "Index: []\n"
          ]
        }
      ]
    },
    {
      "cell_type": "markdown",
      "source": [
        "**query22: Please provide me with the 20 countries (using cname) with the highest percentage of English speakers (PerEng).**"
      ],
      "metadata": {
        "id": "mkSmKe8QO6W0"
      }
    },
    {
      "source": [
        "query22 = \"\"\"\n",
        "SELECT cname, PerEng\n",
        "FROM final_df\n",
        "ORDER BY PerEng DESC\n",
        "LIMIT 20\n",
        "\"\"\"\n",
        "print(psql.sqldf(query22, locals()))"
      ],
      "cell_type": "code",
      "metadata": {
        "colab": {
          "base_uri": "https://localhost:8080/"
        },
        "id": "6qdyzrpVUSwl",
        "outputId": "90f550fd-a7d7-4f40-c525-2c17ab276425"
      },
      "execution_count": 79,
      "outputs": [
        {
          "output_type": "stream",
          "name": "stdout",
          "text": [
            "                                                cname  PerEng\n",
            "0                                            Barbados   100.0\n",
            "1                                             Iceland    98.0\n",
            "2                                             Ireland    98.0\n",
            "3                                    Marshall Islands    98.0\n",
            "4   United Kingdom of Great Britain and Northern I...    98.0\n",
            "5                                             Jamaica    97.0\n",
            "6                                         New Zealand    97.0\n",
            "7                                               Nauru    96.0\n",
            "8                                           Singapore    96.0\n",
            "9                    Saint Vincent and the Grenadines    95.0\n",
            "10                     United States of America (the)    95.0\n",
            "11                                           Dominica    94.0\n",
            "12                                        South Sudan    94.0\n",
            "13                                        Sudan (the)    93.0\n",
            "14                                          Australia    92.0\n",
            "15                                              Palau    92.0\n",
            "16                                            Grenada    90.0\n",
            "17                                             Guyana    90.0\n",
            "18                                  Netherlands (the)    90.0\n",
            "19                                             Sweden    89.0\n"
          ]
        }
      ]
    },
    {
      "cell_type": "markdown",
      "source": [
        "**query23: Please rank countries along each of these 4 dimension: GDP per capita, population size,  Bayesian Corruption Index, and Percent English-Speaking.  And then give me the top 10 (highest-ranked, meaning the best) countries where these rankings are blended in these proportions: GDP per capita (40%), population size (10%), Bayesian Corruption Index (30%), and percentage of English speakers (20%)**"
      ],
      "metadata": {
        "id": "wXXd3gYyPIbs"
      }
    },
    {
      "cell_type": "code",
      "source": [
        "query23 = \"\"\"\n",
        "WITH Ranked AS (\n",
        "    SELECT\n",
        "        cname,\n",
        "        RANK() OVER (ORDER BY wdi_gdpcapcon2015 DESC) AS rank_gdp,\n",
        "        RANK() OVER (ORDER BY pwt_pop DESC) AS rank_pop,\n",
        "        RANK() OVER (ORDER BY bci_bci DESC) AS rank_bci,\n",
        "        RANK() OVER (ORDER BY PerEng DESC) AS rank_eng\n",
        "    FROM final_df\n",
        "),\n",
        "WeightedScores AS (\n",
        "    SELECT\n",
        "        cname,\n",
        "        (rank_gdp * 0.40) + (rank_pop * 0.10) + (rank_bci * 0.30) + (rank_eng * 0.20) AS weighted_score\n",
        "    FROM Ranked\n",
        ")\n",
        "SELECT cname, weighted_score\n",
        "FROM WeightedScores\n",
        "ORDER BY weighted_score DESC\n",
        "LIMIT 10\n",
        "\"\"\"\n",
        "\n",
        "\n",
        "# Execute SQL query\n",
        "print(psql.sqldf(query23, locals()))"
      ],
      "metadata": {
        "id": "T2GJ73km96he",
        "colab": {
          "base_uri": "https://localhost:8080/"
        },
        "outputId": "e69a3a0d-9c5b-40c1-ae5f-0225d9c124c2"
      },
      "execution_count": 82,
      "outputs": [
        {
          "output_type": "stream",
          "name": "stdout",
          "text": [
            "                              cname  weighted_score\n",
            "0                            Rwanda            96.0\n",
            "1                           Lesotho            85.5\n",
            "2                          Kiribati            81.8\n",
            "3                            Malawi            81.4\n",
            "4                   Solomon Islands            81.2\n",
            "5                              Fiji            81.1\n",
            "6                             Samoa            79.6\n",
            "7                       Afghanistan            79.6\n",
            "8                             Nepal            79.5\n",
            "9  Micronesia (Federated States of)            79.4\n"
          ]
        }
      ]
    }
  ]
}